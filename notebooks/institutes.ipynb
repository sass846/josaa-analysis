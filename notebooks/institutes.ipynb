{
 "cells": [
  {
   "cell_type": "code",
   "execution_count": 1,
   "id": "2756a883-d696-4be7-88be-4be9e5a26811",
   "metadata": {},
   "outputs": [],
   "source": [
    "from selenium import webdriver\n",
    "from selenium.webdriver.common.by import By\n",
    "from selenium.webdriver.support.ui import Select\n",
    "from selenium.webdriver.support.ui import WebDriverWait\n",
    "from selenium.webdriver.support import expected_conditions as EC\n",
    "from bs4 import BeautifulSoup as bs\n",
    "# import time\n",
    "import numpy as np\n",
    "import pandas as pd\n",
    "import matplotlib.pylab as plt\n",
    "import seaborn as sns\n",
    "plt.style.use('ggplot')\n"
   ]
  },
  {
   "cell_type": "code",
   "execution_count": 2,
   "id": "4e8aade8-798e-4c10-b284-b0a1de8c7349",
   "metadata": {},
   "outputs": [],
   "source": [
    "pd.set_option('display.max_columns', 200)"
   ]
  },
  {
   "cell_type": "code",
   "execution_count": 3,
   "id": "b73f5277-0379-4b4a-adfa-db091394ac36",
   "metadata": {},
   "outputs": [
    {
     "name": "stderr",
     "output_type": "stream",
     "text": [
      "Error sending stats to Plausible: error sending request for url (https://plausible.io/api/event)\n"
     ]
    }
   ],
   "source": [
    "driver = webdriver.Firefox()"
   ]
  },
  {
   "cell_type": "code",
   "execution_count": 4,
   "id": "a1356d0f-aee8-4849-830f-aa34080c13d1",
   "metadata": {},
   "outputs": [],
   "source": [
    "driver.get(\"https://josaa.admissions.nic.in/applicant/seatmatrix/instituteview.aspx\")\n",
    "wait = WebDriverWait(driver, 20)"
   ]
  },
  {
   "cell_type": "code",
   "execution_count": 5,
   "id": "e5a3c84e-b316-40be-aace-6a838a87e1c0",
   "metadata": {},
   "outputs": [],
   "source": [
    "soup = bs(driver.page_source, \"html.parser\")\n",
    "driver.quit()"
   ]
  },
  {
   "cell_type": "code",
   "execution_count": 7,
   "id": "65b0b55a-95bd-4b4e-8117-06dec7ecfc12",
   "metadata": {},
   "outputs": [],
   "source": [
    "table = soup.find('table', attrs={'id':'ctl00_ContentPlaceHolder1_gvInstTypelist'})"
   ]
  },
  {
   "cell_type": "code",
   "execution_count": 8,
   "id": "75011916-2ec3-4774-ad4d-54c30a499a97",
   "metadata": {},
   "outputs": [],
   "source": [
    "headers = []\n",
    "for header in table.find_all('th'):\n",
    "    headers.append(header.text.strip())"
   ]
  },
  {
   "cell_type": "code",
   "execution_count": 9,
   "id": "b4b8204d-1cd3-4db4-8ebc-02573be6a2b0",
   "metadata": {},
   "outputs": [],
   "source": [
    "data = []\n",
    "for row in table.find_all('tr'):\n",
    "    row_data = []\n",
    "    for cell in row.find_all('td'):\n",
    "        row_data.append(cell.text.strip())\n",
    "    data.append(row_data)"
   ]
  },
  {
   "cell_type": "code",
   "execution_count": 10,
   "id": "4d9205df-b1aa-432a-a808-5884b384db17",
   "metadata": {},
   "outputs": [],
   "source": [
    "df = pd.DataFrame(data, columns=headers)"
   ]
  },
  {
   "cell_type": "code",
   "execution_count": 11,
   "id": "c23df76e-b648-4107-9a04-e324680d2b3c",
   "metadata": {},
   "outputs": [
    {
     "data": {
      "text/plain": [
       "(122, 7)"
      ]
     },
     "execution_count": 11,
     "metadata": {},
     "output_type": "execute_result"
    }
   ],
   "source": [
    "df.shape"
   ]
  },
  {
   "cell_type": "code",
   "execution_count": 12,
   "id": "d1f41801-5fe7-4354-b35e-482030ed14bd",
   "metadata": {},
   "outputs": [
    {
     "data": {
      "text/html": [
       "<div>\n",
       "<style scoped>\n",
       "    .dataframe tbody tr th:only-of-type {\n",
       "        vertical-align: middle;\n",
       "    }\n",
       "\n",
       "    .dataframe tbody tr th {\n",
       "        vertical-align: top;\n",
       "    }\n",
       "\n",
       "    .dataframe thead th {\n",
       "        text-align: right;\n",
       "    }\n",
       "</style>\n",
       "<table border=\"1\" class=\"dataframe\">\n",
       "  <thead>\n",
       "    <tr style=\"text-align: right;\">\n",
       "      <th></th>\n",
       "      <th>S.No.</th>\n",
       "      <th>Institute Code and Name</th>\n",
       "      <th>Address</th>\n",
       "      <th>Phone/ Fax / Website</th>\n",
       "      <th>Email ID</th>\n",
       "      <th>Contact Information</th>\n",
       "      <th>View Details</th>\n",
       "    </tr>\n",
       "  </thead>\n",
       "  <tbody>\n",
       "    <tr>\n",
       "      <th>0</th>\n",
       "      <td>None</td>\n",
       "      <td>None</td>\n",
       "      <td>None</td>\n",
       "      <td>None</td>\n",
       "      <td>None</td>\n",
       "      <td>None</td>\n",
       "      <td>None</td>\n",
       "    </tr>\n",
       "    <tr>\n",
       "      <th>1</th>\n",
       "      <td>1</td>\n",
       "      <td>101  Indian Institute  of Technology Bhubaneswar</td>\n",
       "      <td>Indian Institute of Technology Bhubaneswar (II...</td>\n",
       "      <td>Phone: 91-674-713-4574Fax: Website: www.iitbbs...</td>\n",
       "      <td>dr.acad@iitbbs.ac.in,  academic.btech@iitbbs.a...</td>\n",
       "      <td>Mr. Pradeep Kumar Sahoo Deputy Registrar (Acad...</td>\n",
       "      <td>View</td>\n",
       "    </tr>\n",
       "    <tr>\n",
       "      <th>2</th>\n",
       "      <td>2</td>\n",
       "      <td>102  Indian Institute  of Technology Bombay</td>\n",
       "      <td>IIT Bombay, Powai, Mumbai 400076, Maharashtra,...</td>\n",
       "      <td>Phone: 91-22-25767987Fax: Website: www.iitb.ac.in</td>\n",
       "      <td>adlingesd@iitb.ac.in,  aracad4@iitb.ac.in</td>\n",
       "      <td>Deputy Registrar (Academic) Deputy Registrar (...</td>\n",
       "      <td>View</td>\n",
       "    </tr>\n",
       "    <tr>\n",
       "      <th>3</th>\n",
       "      <td>3</td>\n",
       "      <td>103  Indian Institute  of Technology Mandi</td>\n",
       "      <td>Kamand Campus, VPO Kamand, Distt. Mandi - 1750...</td>\n",
       "      <td>Phone: 91-1905-267015Fax: 91-1905-267075Websit...</td>\n",
       "      <td>registrar@iitmandi.ac.in,</td>\n",
       "      <td>Dr. Kumar Sambhav Pandey Registrar</td>\n",
       "      <td>View</td>\n",
       "    </tr>\n",
       "    <tr>\n",
       "      <th>4</th>\n",
       "      <td>4</td>\n",
       "      <td>104  Indian Institute  of Technology Delhi</td>\n",
       "      <td>Indian Institute of Technology Delhi, Hauz Kha...</td>\n",
       "      <td>Phone: 91-11-26591708Fax: Website: www.iitd.ac.in</td>\n",
       "      <td>deanacad@admin.iitd.ac.in,  adcur@admin.iitd.a...</td>\n",
       "      <td>Dean (Academics), IIT Delhi Dean (Academics), ...</td>\n",
       "      <td>View</td>\n",
       "    </tr>\n",
       "  </tbody>\n",
       "</table>\n",
       "</div>"
      ],
      "text/plain": [
       "  S.No.                           Institute Code and Name  \\\n",
       "0  None                                              None   \n",
       "1     1  101  Indian Institute  of Technology Bhubaneswar   \n",
       "2     2       102  Indian Institute  of Technology Bombay   \n",
       "3     3        103  Indian Institute  of Technology Mandi   \n",
       "4     4        104  Indian Institute  of Technology Delhi   \n",
       "\n",
       "                                             Address  \\\n",
       "0                                               None   \n",
       "1  Indian Institute of Technology Bhubaneswar (II...   \n",
       "2  IIT Bombay, Powai, Mumbai 400076, Maharashtra,...   \n",
       "3  Kamand Campus, VPO Kamand, Distt. Mandi - 1750...   \n",
       "4  Indian Institute of Technology Delhi, Hauz Kha...   \n",
       "\n",
       "                                Phone/ Fax / Website  \\\n",
       "0                                               None   \n",
       "1  Phone: 91-674-713-4574Fax: Website: www.iitbbs...   \n",
       "2  Phone: 91-22-25767987Fax: Website: www.iitb.ac.in   \n",
       "3  Phone: 91-1905-267015Fax: 91-1905-267075Websit...   \n",
       "4  Phone: 91-11-26591708Fax: Website: www.iitd.ac.in   \n",
       "\n",
       "                                            Email ID  \\\n",
       "0                                               None   \n",
       "1  dr.acad@iitbbs.ac.in,  academic.btech@iitbbs.a...   \n",
       "2          adlingesd@iitb.ac.in,  aracad4@iitb.ac.in   \n",
       "3                          registrar@iitmandi.ac.in,   \n",
       "4  deanacad@admin.iitd.ac.in,  adcur@admin.iitd.a...   \n",
       "\n",
       "                                 Contact Information View Details  \n",
       "0                                               None         None  \n",
       "1  Mr. Pradeep Kumar Sahoo Deputy Registrar (Acad...         View  \n",
       "2  Deputy Registrar (Academic) Deputy Registrar (...         View  \n",
       "3                 Dr. Kumar Sambhav Pandey Registrar         View  \n",
       "4  Dean (Academics), IIT Delhi Dean (Academics), ...         View  "
      ]
     },
     "execution_count": 12,
     "metadata": {},
     "output_type": "execute_result"
    }
   ],
   "source": [
    "df.head()"
   ]
  },
  {
   "cell_type": "code",
   "execution_count": 13,
   "id": "09257143-91a7-4181-933b-06a091ee0a84",
   "metadata": {},
   "outputs": [
    {
     "data": {
      "text/plain": [
       "(121, 7)"
      ]
     },
     "execution_count": 13,
     "metadata": {},
     "output_type": "execute_result"
    }
   ],
   "source": [
    "df.dropna(inplace=True)\n",
    "df.shape"
   ]
  },
  {
   "cell_type": "code",
   "execution_count": 14,
   "id": "3224612c-7beb-4382-94a9-f40c8c85c2f4",
   "metadata": {},
   "outputs": [
    {
     "data": {
      "text/html": [
       "<div>\n",
       "<style scoped>\n",
       "    .dataframe tbody tr th:only-of-type {\n",
       "        vertical-align: middle;\n",
       "    }\n",
       "\n",
       "    .dataframe tbody tr th {\n",
       "        vertical-align: top;\n",
       "    }\n",
       "\n",
       "    .dataframe thead th {\n",
       "        text-align: right;\n",
       "    }\n",
       "</style>\n",
       "<table border=\"1\" class=\"dataframe\">\n",
       "  <thead>\n",
       "    <tr style=\"text-align: right;\">\n",
       "      <th></th>\n",
       "      <th>S.No.</th>\n",
       "      <th>Institute Code and Name</th>\n",
       "      <th>Address</th>\n",
       "      <th>Phone/ Fax / Website</th>\n",
       "      <th>Email ID</th>\n",
       "      <th>Contact Information</th>\n",
       "      <th>View Details</th>\n",
       "    </tr>\n",
       "  </thead>\n",
       "  <tbody>\n",
       "    <tr>\n",
       "      <th>1</th>\n",
       "      <td>1</td>\n",
       "      <td>101  Indian Institute  of Technology Bhubaneswar</td>\n",
       "      <td>Indian Institute of Technology Bhubaneswar (II...</td>\n",
       "      <td>Phone: 91-674-713-4574Fax: Website: www.iitbbs...</td>\n",
       "      <td>dr.acad@iitbbs.ac.in,  academic.btech@iitbbs.a...</td>\n",
       "      <td>Mr. Pradeep Kumar Sahoo Deputy Registrar (Acad...</td>\n",
       "      <td>View</td>\n",
       "    </tr>\n",
       "    <tr>\n",
       "      <th>2</th>\n",
       "      <td>2</td>\n",
       "      <td>102  Indian Institute  of Technology Bombay</td>\n",
       "      <td>IIT Bombay, Powai, Mumbai 400076, Maharashtra,...</td>\n",
       "      <td>Phone: 91-22-25767987Fax: Website: www.iitb.ac.in</td>\n",
       "      <td>adlingesd@iitb.ac.in,  aracad4@iitb.ac.in</td>\n",
       "      <td>Deputy Registrar (Academic) Deputy Registrar (...</td>\n",
       "      <td>View</td>\n",
       "    </tr>\n",
       "    <tr>\n",
       "      <th>3</th>\n",
       "      <td>3</td>\n",
       "      <td>103  Indian Institute  of Technology Mandi</td>\n",
       "      <td>Kamand Campus, VPO Kamand, Distt. Mandi - 1750...</td>\n",
       "      <td>Phone: 91-1905-267015Fax: 91-1905-267075Websit...</td>\n",
       "      <td>registrar@iitmandi.ac.in,</td>\n",
       "      <td>Dr. Kumar Sambhav Pandey Registrar</td>\n",
       "      <td>View</td>\n",
       "    </tr>\n",
       "    <tr>\n",
       "      <th>4</th>\n",
       "      <td>4</td>\n",
       "      <td>104  Indian Institute  of Technology Delhi</td>\n",
       "      <td>Indian Institute of Technology Delhi, Hauz Kha...</td>\n",
       "      <td>Phone: 91-11-26591708Fax: Website: www.iitd.ac.in</td>\n",
       "      <td>deanacad@admin.iitd.ac.in,  adcur@admin.iitd.a...</td>\n",
       "      <td>Dean (Academics), IIT Delhi Dean (Academics), ...</td>\n",
       "      <td>View</td>\n",
       "    </tr>\n",
       "    <tr>\n",
       "      <th>5</th>\n",
       "      <td>5</td>\n",
       "      <td>105  Indian Institute  of Technology Indore</td>\n",
       "      <td>Indian Institute of Technology Indore\\nSimrol,...</td>\n",
       "      <td>Phone: 91-731-6603150Fax: 91-731-6603121Websit...</td>\n",
       "      <td>araa@iiti.ac.in,  manageracademic@iiti.ac.in</td>\n",
       "      <td>Assistant Registrar, Academic Affairs Assistan...</td>\n",
       "      <td>View</td>\n",
       "    </tr>\n",
       "    <tr>\n",
       "      <th>6</th>\n",
       "      <td>6</td>\n",
       "      <td>106  Indian Institute  of Technology Kharagpur</td>\n",
       "      <td>Kharagpur \\nWest Bengal\\nIndia - 721302</td>\n",
       "      <td>Phone: 03222-282054Fax: 03222-278242Website: w...</td>\n",
       "      <td>arug@adm.iitkgp.ac.in,  jeeadv@iitkgp.ac.in</td>\n",
       "      <td>Mr. Santanu Das Deputy Registrar 03222-282054</td>\n",
       "      <td>View</td>\n",
       "    </tr>\n",
       "    <tr>\n",
       "      <th>7</th>\n",
       "      <td>7</td>\n",
       "      <td>107  Indian Institute  of Technology Hyderabad</td>\n",
       "      <td>Kandi-502284, Sagareddy, Telangana, India</td>\n",
       "      <td>Phone: 91-40-23016057Fax: 91-40-23016000Websit...</td>\n",
       "      <td>dr.acad@iith.ac.in,  acad.ug@iith.ac.in</td>\n",
       "      <td>Mr. Devadevan V Deputy Registrar Academics</td>\n",
       "      <td>View</td>\n",
       "    </tr>\n",
       "    <tr>\n",
       "      <th>8</th>\n",
       "      <td>8</td>\n",
       "      <td>108  Indian Institute  of Technology Jodhpur</td>\n",
       "      <td>NH 62 Nagaur Road, Karwad 342030, Jodhpur, Raj...</td>\n",
       "      <td>Phone: 2912801079,2912801195,2912801135Fax: We...</td>\n",
       "      <td>chair_jee@iitj.ac.in,  office_jee@iitj.ac.in</td>\n",
       "      <td>Prof. Shree Prakash Tiwari Chairman, JEE (Adva...</td>\n",
       "      <td>View</td>\n",
       "    </tr>\n",
       "    <tr>\n",
       "      <th>9</th>\n",
       "      <td>9</td>\n",
       "      <td>109  Indian Institute  of Technology Kanpur</td>\n",
       "      <td>JEE Office,\\nDOAA Building,\\nIIT Kanpur,\\nKaly...</td>\n",
       "      <td>Phone: 0512-2597335Fax: Website: www.iitk.ac.in</td>\n",
       "      <td>jee@iitk.ac.in,  jeeadv@iitk.ac.in</td>\n",
       "      <td>Chairperson JEE (Advanced) 2024</td>\n",
       "      <td>View</td>\n",
       "    </tr>\n",
       "    <tr>\n",
       "      <th>10</th>\n",
       "      <td>10</td>\n",
       "      <td>110  Indian Institute  of Technology Madras</td>\n",
       "      <td>IIT Madras P.O., Chennai 600036, INDIA</td>\n",
       "      <td>Phone: 91-44-22578035Fax: 91-44-22578042Websit...</td>\n",
       "      <td>drcourses@iitm.ac.in,  cacad@iitm.ac.in</td>\n",
       "      <td>Deputy Registrar (Academic Courses) Deputy Reg...</td>\n",
       "      <td>View</td>\n",
       "    </tr>\n",
       "  </tbody>\n",
       "</table>\n",
       "</div>"
      ],
      "text/plain": [
       "   S.No.                           Institute Code and Name  \\\n",
       "1      1  101  Indian Institute  of Technology Bhubaneswar   \n",
       "2      2       102  Indian Institute  of Technology Bombay   \n",
       "3      3        103  Indian Institute  of Technology Mandi   \n",
       "4      4        104  Indian Institute  of Technology Delhi   \n",
       "5      5       105  Indian Institute  of Technology Indore   \n",
       "6      6    106  Indian Institute  of Technology Kharagpur   \n",
       "7      7    107  Indian Institute  of Technology Hyderabad   \n",
       "8      8      108  Indian Institute  of Technology Jodhpur   \n",
       "9      9       109  Indian Institute  of Technology Kanpur   \n",
       "10    10       110  Indian Institute  of Technology Madras   \n",
       "\n",
       "                                              Address  \\\n",
       "1   Indian Institute of Technology Bhubaneswar (II...   \n",
       "2   IIT Bombay, Powai, Mumbai 400076, Maharashtra,...   \n",
       "3   Kamand Campus, VPO Kamand, Distt. Mandi - 1750...   \n",
       "4   Indian Institute of Technology Delhi, Hauz Kha...   \n",
       "5   Indian Institute of Technology Indore\\nSimrol,...   \n",
       "6             Kharagpur \\nWest Bengal\\nIndia - 721302   \n",
       "7           Kandi-502284, Sagareddy, Telangana, India   \n",
       "8   NH 62 Nagaur Road, Karwad 342030, Jodhpur, Raj...   \n",
       "9   JEE Office,\\nDOAA Building,\\nIIT Kanpur,\\nKaly...   \n",
       "10             IIT Madras P.O., Chennai 600036, INDIA   \n",
       "\n",
       "                                 Phone/ Fax / Website  \\\n",
       "1   Phone: 91-674-713-4574Fax: Website: www.iitbbs...   \n",
       "2   Phone: 91-22-25767987Fax: Website: www.iitb.ac.in   \n",
       "3   Phone: 91-1905-267015Fax: 91-1905-267075Websit...   \n",
       "4   Phone: 91-11-26591708Fax: Website: www.iitd.ac.in   \n",
       "5   Phone: 91-731-6603150Fax: 91-731-6603121Websit...   \n",
       "6   Phone: 03222-282054Fax: 03222-278242Website: w...   \n",
       "7   Phone: 91-40-23016057Fax: 91-40-23016000Websit...   \n",
       "8   Phone: 2912801079,2912801195,2912801135Fax: We...   \n",
       "9     Phone: 0512-2597335Fax: Website: www.iitk.ac.in   \n",
       "10  Phone: 91-44-22578035Fax: 91-44-22578042Websit...   \n",
       "\n",
       "                                             Email ID  \\\n",
       "1   dr.acad@iitbbs.ac.in,  academic.btech@iitbbs.a...   \n",
       "2           adlingesd@iitb.ac.in,  aracad4@iitb.ac.in   \n",
       "3                           registrar@iitmandi.ac.in,   \n",
       "4   deanacad@admin.iitd.ac.in,  adcur@admin.iitd.a...   \n",
       "5        araa@iiti.ac.in,  manageracademic@iiti.ac.in   \n",
       "6         arug@adm.iitkgp.ac.in,  jeeadv@iitkgp.ac.in   \n",
       "7             dr.acad@iith.ac.in,  acad.ug@iith.ac.in   \n",
       "8        chair_jee@iitj.ac.in,  office_jee@iitj.ac.in   \n",
       "9                  jee@iitk.ac.in,  jeeadv@iitk.ac.in   \n",
       "10            drcourses@iitm.ac.in,  cacad@iitm.ac.in   \n",
       "\n",
       "                                  Contact Information View Details  \n",
       "1   Mr. Pradeep Kumar Sahoo Deputy Registrar (Acad...         View  \n",
       "2   Deputy Registrar (Academic) Deputy Registrar (...         View  \n",
       "3                  Dr. Kumar Sambhav Pandey Registrar         View  \n",
       "4   Dean (Academics), IIT Delhi Dean (Academics), ...         View  \n",
       "5   Assistant Registrar, Academic Affairs Assistan...         View  \n",
       "6       Mr. Santanu Das Deputy Registrar 03222-282054         View  \n",
       "7          Mr. Devadevan V Deputy Registrar Academics         View  \n",
       "8   Prof. Shree Prakash Tiwari Chairman, JEE (Adva...         View  \n",
       "9                     Chairperson JEE (Advanced) 2024         View  \n",
       "10  Deputy Registrar (Academic Courses) Deputy Reg...         View  "
      ]
     },
     "execution_count": 14,
     "metadata": {},
     "output_type": "execute_result"
    }
   ],
   "source": [
    "df.head(10)"
   ]
  },
  {
   "cell_type": "code",
   "execution_count": 22,
   "id": "cfdba539-5b9e-4677-9c2d-effaa8145a3e",
   "metadata": {},
   "outputs": [
    {
     "ename": "KeyError",
     "evalue": "\"['Contact Information', 'View Details'] not found in axis\"",
     "output_type": "error",
     "traceback": [
      "\u001b[0;31m---------------------------------------------------------------------------\u001b[0m",
      "\u001b[0;31mKeyError\u001b[0m                                  Traceback (most recent call last)",
      "Cell \u001b[0;32mIn[22], line 1\u001b[0m\n\u001b[0;32m----> 1\u001b[0m df \u001b[38;5;241m=\u001b[39m \u001b[43mdf\u001b[49m\u001b[38;5;241;43m.\u001b[39;49m\u001b[43mdrop\u001b[49m\u001b[43m(\u001b[49m\u001b[43mcolumns\u001b[49m\u001b[38;5;241;43m=\u001b[39;49m\u001b[43m[\u001b[49m\u001b[38;5;124;43m'\u001b[39;49m\u001b[38;5;124;43mContact Information\u001b[39;49m\u001b[38;5;124;43m'\u001b[39;49m\u001b[43m,\u001b[49m\u001b[38;5;124;43m'\u001b[39;49m\u001b[38;5;124;43mView Details\u001b[39;49m\u001b[38;5;124;43m'\u001b[39;49m\u001b[43m,\u001b[49m\u001b[43m \u001b[49m\u001b[38;5;124;43m'\u001b[39;49m\u001b[38;5;124;43mS.No.\u001b[39;49m\u001b[38;5;124;43m'\u001b[39;49m\u001b[43m]\u001b[49m\u001b[43m)\u001b[49m\n",
      "File \u001b[0;32m~/projects/josaa-analysis/.venv/lib/python3.12/site-packages/pandas/core/frame.py:5581\u001b[0m, in \u001b[0;36mDataFrame.drop\u001b[0;34m(self, labels, axis, index, columns, level, inplace, errors)\u001b[0m\n\u001b[1;32m   5433\u001b[0m \u001b[38;5;28;01mdef\u001b[39;00m \u001b[38;5;21mdrop\u001b[39m(\n\u001b[1;32m   5434\u001b[0m     \u001b[38;5;28mself\u001b[39m,\n\u001b[1;32m   5435\u001b[0m     labels: IndexLabel \u001b[38;5;241m|\u001b[39m \u001b[38;5;28;01mNone\u001b[39;00m \u001b[38;5;241m=\u001b[39m \u001b[38;5;28;01mNone\u001b[39;00m,\n\u001b[0;32m   (...)\u001b[0m\n\u001b[1;32m   5442\u001b[0m     errors: IgnoreRaise \u001b[38;5;241m=\u001b[39m \u001b[38;5;124m\"\u001b[39m\u001b[38;5;124mraise\u001b[39m\u001b[38;5;124m\"\u001b[39m,\n\u001b[1;32m   5443\u001b[0m ) \u001b[38;5;241m-\u001b[39m\u001b[38;5;241m>\u001b[39m DataFrame \u001b[38;5;241m|\u001b[39m \u001b[38;5;28;01mNone\u001b[39;00m:\n\u001b[1;32m   5444\u001b[0m \u001b[38;5;250m    \u001b[39m\u001b[38;5;124;03m\"\"\"\u001b[39;00m\n\u001b[1;32m   5445\u001b[0m \u001b[38;5;124;03m    Drop specified labels from rows or columns.\u001b[39;00m\n\u001b[1;32m   5446\u001b[0m \n\u001b[0;32m   (...)\u001b[0m\n\u001b[1;32m   5579\u001b[0m \u001b[38;5;124;03m            weight  1.0     0.8\u001b[39;00m\n\u001b[1;32m   5580\u001b[0m \u001b[38;5;124;03m    \"\"\"\u001b[39;00m\n\u001b[0;32m-> 5581\u001b[0m     \u001b[38;5;28;01mreturn\u001b[39;00m \u001b[38;5;28;43msuper\u001b[39;49m\u001b[43m(\u001b[49m\u001b[43m)\u001b[49m\u001b[38;5;241;43m.\u001b[39;49m\u001b[43mdrop\u001b[49m\u001b[43m(\u001b[49m\n\u001b[1;32m   5582\u001b[0m \u001b[43m        \u001b[49m\u001b[43mlabels\u001b[49m\u001b[38;5;241;43m=\u001b[39;49m\u001b[43mlabels\u001b[49m\u001b[43m,\u001b[49m\n\u001b[1;32m   5583\u001b[0m \u001b[43m        \u001b[49m\u001b[43maxis\u001b[49m\u001b[38;5;241;43m=\u001b[39;49m\u001b[43maxis\u001b[49m\u001b[43m,\u001b[49m\n\u001b[1;32m   5584\u001b[0m \u001b[43m        \u001b[49m\u001b[43mindex\u001b[49m\u001b[38;5;241;43m=\u001b[39;49m\u001b[43mindex\u001b[49m\u001b[43m,\u001b[49m\n\u001b[1;32m   5585\u001b[0m \u001b[43m        \u001b[49m\u001b[43mcolumns\u001b[49m\u001b[38;5;241;43m=\u001b[39;49m\u001b[43mcolumns\u001b[49m\u001b[43m,\u001b[49m\n\u001b[1;32m   5586\u001b[0m \u001b[43m        \u001b[49m\u001b[43mlevel\u001b[49m\u001b[38;5;241;43m=\u001b[39;49m\u001b[43mlevel\u001b[49m\u001b[43m,\u001b[49m\n\u001b[1;32m   5587\u001b[0m \u001b[43m        \u001b[49m\u001b[43minplace\u001b[49m\u001b[38;5;241;43m=\u001b[39;49m\u001b[43minplace\u001b[49m\u001b[43m,\u001b[49m\n\u001b[1;32m   5588\u001b[0m \u001b[43m        \u001b[49m\u001b[43merrors\u001b[49m\u001b[38;5;241;43m=\u001b[39;49m\u001b[43merrors\u001b[49m\u001b[43m,\u001b[49m\n\u001b[1;32m   5589\u001b[0m \u001b[43m    \u001b[49m\u001b[43m)\u001b[49m\n",
      "File \u001b[0;32m~/projects/josaa-analysis/.venv/lib/python3.12/site-packages/pandas/core/generic.py:4788\u001b[0m, in \u001b[0;36mNDFrame.drop\u001b[0;34m(self, labels, axis, index, columns, level, inplace, errors)\u001b[0m\n\u001b[1;32m   4786\u001b[0m \u001b[38;5;28;01mfor\u001b[39;00m axis, labels \u001b[38;5;129;01min\u001b[39;00m axes\u001b[38;5;241m.\u001b[39mitems():\n\u001b[1;32m   4787\u001b[0m     \u001b[38;5;28;01mif\u001b[39;00m labels \u001b[38;5;129;01mis\u001b[39;00m \u001b[38;5;129;01mnot\u001b[39;00m \u001b[38;5;28;01mNone\u001b[39;00m:\n\u001b[0;32m-> 4788\u001b[0m         obj \u001b[38;5;241m=\u001b[39m \u001b[43mobj\u001b[49m\u001b[38;5;241;43m.\u001b[39;49m\u001b[43m_drop_axis\u001b[49m\u001b[43m(\u001b[49m\u001b[43mlabels\u001b[49m\u001b[43m,\u001b[49m\u001b[43m \u001b[49m\u001b[43maxis\u001b[49m\u001b[43m,\u001b[49m\u001b[43m \u001b[49m\u001b[43mlevel\u001b[49m\u001b[38;5;241;43m=\u001b[39;49m\u001b[43mlevel\u001b[49m\u001b[43m,\u001b[49m\u001b[43m \u001b[49m\u001b[43merrors\u001b[49m\u001b[38;5;241;43m=\u001b[39;49m\u001b[43merrors\u001b[49m\u001b[43m)\u001b[49m\n\u001b[1;32m   4790\u001b[0m \u001b[38;5;28;01mif\u001b[39;00m inplace:\n\u001b[1;32m   4791\u001b[0m     \u001b[38;5;28mself\u001b[39m\u001b[38;5;241m.\u001b[39m_update_inplace(obj)\n",
      "File \u001b[0;32m~/projects/josaa-analysis/.venv/lib/python3.12/site-packages/pandas/core/generic.py:4830\u001b[0m, in \u001b[0;36mNDFrame._drop_axis\u001b[0;34m(self, labels, axis, level, errors, only_slice)\u001b[0m\n\u001b[1;32m   4828\u001b[0m         new_axis \u001b[38;5;241m=\u001b[39m axis\u001b[38;5;241m.\u001b[39mdrop(labels, level\u001b[38;5;241m=\u001b[39mlevel, errors\u001b[38;5;241m=\u001b[39merrors)\n\u001b[1;32m   4829\u001b[0m     \u001b[38;5;28;01melse\u001b[39;00m:\n\u001b[0;32m-> 4830\u001b[0m         new_axis \u001b[38;5;241m=\u001b[39m \u001b[43maxis\u001b[49m\u001b[38;5;241;43m.\u001b[39;49m\u001b[43mdrop\u001b[49m\u001b[43m(\u001b[49m\u001b[43mlabels\u001b[49m\u001b[43m,\u001b[49m\u001b[43m \u001b[49m\u001b[43merrors\u001b[49m\u001b[38;5;241;43m=\u001b[39;49m\u001b[43merrors\u001b[49m\u001b[43m)\u001b[49m\n\u001b[1;32m   4831\u001b[0m     indexer \u001b[38;5;241m=\u001b[39m axis\u001b[38;5;241m.\u001b[39mget_indexer(new_axis)\n\u001b[1;32m   4833\u001b[0m \u001b[38;5;66;03m# Case for non-unique axis\u001b[39;00m\n\u001b[1;32m   4834\u001b[0m \u001b[38;5;28;01melse\u001b[39;00m:\n",
      "File \u001b[0;32m~/projects/josaa-analysis/.venv/lib/python3.12/site-packages/pandas/core/indexes/base.py:7070\u001b[0m, in \u001b[0;36mIndex.drop\u001b[0;34m(self, labels, errors)\u001b[0m\n\u001b[1;32m   7068\u001b[0m \u001b[38;5;28;01mif\u001b[39;00m mask\u001b[38;5;241m.\u001b[39many():\n\u001b[1;32m   7069\u001b[0m     \u001b[38;5;28;01mif\u001b[39;00m errors \u001b[38;5;241m!=\u001b[39m \u001b[38;5;124m\"\u001b[39m\u001b[38;5;124mignore\u001b[39m\u001b[38;5;124m\"\u001b[39m:\n\u001b[0;32m-> 7070\u001b[0m         \u001b[38;5;28;01mraise\u001b[39;00m \u001b[38;5;167;01mKeyError\u001b[39;00m(\u001b[38;5;124mf\u001b[39m\u001b[38;5;124m\"\u001b[39m\u001b[38;5;132;01m{\u001b[39;00mlabels[mask]\u001b[38;5;241m.\u001b[39mtolist()\u001b[38;5;132;01m}\u001b[39;00m\u001b[38;5;124m not found in axis\u001b[39m\u001b[38;5;124m\"\u001b[39m)\n\u001b[1;32m   7071\u001b[0m     indexer \u001b[38;5;241m=\u001b[39m indexer[\u001b[38;5;241m~\u001b[39mmask]\n\u001b[1;32m   7072\u001b[0m \u001b[38;5;28;01mreturn\u001b[39;00m \u001b[38;5;28mself\u001b[39m\u001b[38;5;241m.\u001b[39mdelete(indexer)\n",
      "\u001b[0;31mKeyError\u001b[0m: \"['Contact Information', 'View Details'] not found in axis\""
     ]
    }
   ],
   "source": [
    "df = df.drop(columns=['Contact Information','View Details'])"
   ]
  },
  {
   "cell_type": "code",
   "execution_count": 24,
   "id": "9514d245-2f10-4581-8865-1bbae14a7f74",
   "metadata": {},
   "outputs": [],
   "source": [
    "df = df.drop(columns=['S.No.'])"
   ]
  },
  {
   "cell_type": "code",
   "execution_count": 25,
   "id": "7d85d34f-6a20-4134-b640-bdbe97f3ea02",
   "metadata": {},
   "outputs": [
    {
     "data": {
      "text/plain": [
       "Index(['Institute Code and Name', 'Address', 'Phone/ Fax / Website',\n",
       "       'Email ID'],\n",
       "      dtype='object')"
      ]
     },
     "execution_count": 25,
     "metadata": {},
     "output_type": "execute_result"
    }
   ],
   "source": [
    "df.columns"
   ]
  },
  {
   "cell_type": "code",
   "execution_count": 26,
   "id": "a8ad578b-d927-4c1b-9108-ec52d1abade8",
   "metadata": {},
   "outputs": [
    {
     "data": {
      "text/html": [
       "<div>\n",
       "<style scoped>\n",
       "    .dataframe tbody tr th:only-of-type {\n",
       "        vertical-align: middle;\n",
       "    }\n",
       "\n",
       "    .dataframe tbody tr th {\n",
       "        vertical-align: top;\n",
       "    }\n",
       "\n",
       "    .dataframe thead th {\n",
       "        text-align: right;\n",
       "    }\n",
       "</style>\n",
       "<table border=\"1\" class=\"dataframe\">\n",
       "  <thead>\n",
       "    <tr style=\"text-align: right;\">\n",
       "      <th></th>\n",
       "      <th>Institute Code and Name</th>\n",
       "      <th>Address</th>\n",
       "      <th>Phone/ Fax / Website</th>\n",
       "      <th>Email ID</th>\n",
       "    </tr>\n",
       "  </thead>\n",
       "  <tbody>\n",
       "    <tr>\n",
       "      <th>0</th>\n",
       "      <td>101  Indian Institute  of Technology Bhubaneswar</td>\n",
       "      <td>Indian Institute of Technology Bhubaneswar (II...</td>\n",
       "      <td>Phone: 91-674-713-4574Fax: Website: www.iitbbs...</td>\n",
       "      <td>dr.acad@iitbbs.ac.in,  academic.btech@iitbbs.a...</td>\n",
       "    </tr>\n",
       "    <tr>\n",
       "      <th>1</th>\n",
       "      <td>102  Indian Institute  of Technology Bombay</td>\n",
       "      <td>IIT Bombay, Powai, Mumbai 400076, Maharashtra,...</td>\n",
       "      <td>Phone: 91-22-25767987Fax: Website: www.iitb.ac.in</td>\n",
       "      <td>adlingesd@iitb.ac.in,  aracad4@iitb.ac.in</td>\n",
       "    </tr>\n",
       "    <tr>\n",
       "      <th>2</th>\n",
       "      <td>103  Indian Institute  of Technology Mandi</td>\n",
       "      <td>Kamand Campus, VPO Kamand, Distt. Mandi - 1750...</td>\n",
       "      <td>Phone: 91-1905-267015Fax: 91-1905-267075Websit...</td>\n",
       "      <td>registrar@iitmandi.ac.in,</td>\n",
       "    </tr>\n",
       "    <tr>\n",
       "      <th>3</th>\n",
       "      <td>104  Indian Institute  of Technology Delhi</td>\n",
       "      <td>Indian Institute of Technology Delhi, Hauz Kha...</td>\n",
       "      <td>Phone: 91-11-26591708Fax: Website: www.iitd.ac.in</td>\n",
       "      <td>deanacad@admin.iitd.ac.in,  adcur@admin.iitd.a...</td>\n",
       "    </tr>\n",
       "    <tr>\n",
       "      <th>4</th>\n",
       "      <td>105  Indian Institute  of Technology Indore</td>\n",
       "      <td>Indian Institute of Technology Indore\\nSimrol,...</td>\n",
       "      <td>Phone: 91-731-6603150Fax: 91-731-6603121Websit...</td>\n",
       "      <td>araa@iiti.ac.in,  manageracademic@iiti.ac.in</td>\n",
       "    </tr>\n",
       "  </tbody>\n",
       "</table>\n",
       "</div>"
      ],
      "text/plain": [
       "                            Institute Code and Name  \\\n",
       "0  101  Indian Institute  of Technology Bhubaneswar   \n",
       "1       102  Indian Institute  of Technology Bombay   \n",
       "2        103  Indian Institute  of Technology Mandi   \n",
       "3        104  Indian Institute  of Technology Delhi   \n",
       "4       105  Indian Institute  of Technology Indore   \n",
       "\n",
       "                                             Address  \\\n",
       "0  Indian Institute of Technology Bhubaneswar (II...   \n",
       "1  IIT Bombay, Powai, Mumbai 400076, Maharashtra,...   \n",
       "2  Kamand Campus, VPO Kamand, Distt. Mandi - 1750...   \n",
       "3  Indian Institute of Technology Delhi, Hauz Kha...   \n",
       "4  Indian Institute of Technology Indore\\nSimrol,...   \n",
       "\n",
       "                                Phone/ Fax / Website  \\\n",
       "0  Phone: 91-674-713-4574Fax: Website: www.iitbbs...   \n",
       "1  Phone: 91-22-25767987Fax: Website: www.iitb.ac.in   \n",
       "2  Phone: 91-1905-267015Fax: 91-1905-267075Websit...   \n",
       "3  Phone: 91-11-26591708Fax: Website: www.iitd.ac.in   \n",
       "4  Phone: 91-731-6603150Fax: 91-731-6603121Websit...   \n",
       "\n",
       "                                            Email ID  \n",
       "0  dr.acad@iitbbs.ac.in,  academic.btech@iitbbs.a...  \n",
       "1          adlingesd@iitb.ac.in,  aracad4@iitb.ac.in  \n",
       "2                          registrar@iitmandi.ac.in,  \n",
       "3  deanacad@admin.iitd.ac.in,  adcur@admin.iitd.a...  \n",
       "4       araa@iiti.ac.in,  manageracademic@iiti.ac.in  "
      ]
     },
     "execution_count": 26,
     "metadata": {},
     "output_type": "execute_result"
    }
   ],
   "source": [
    "df.head()"
   ]
  },
  {
   "cell_type": "code",
   "execution_count": 27,
   "id": "7315516f-4c5b-4ad3-aa69-66518a6eb244",
   "metadata": {},
   "outputs": [
    {
     "data": {
      "text/plain": [
       "Institute Code and Name    object\n",
       "Address                    object\n",
       "Phone/ Fax / Website       object\n",
       "Email ID                   object\n",
       "dtype: object"
      ]
     },
     "execution_count": 27,
     "metadata": {},
     "output_type": "execute_result"
    }
   ],
   "source": [
    "df.dtypes"
   ]
  },
  {
   "cell_type": "code",
   "execution_count": 28,
   "id": "c7842bd3-82f6-4c4f-a234-5f5765a77cc3",
   "metadata": {},
   "outputs": [],
   "source": [
    "df.reset_index(drop=True, inplace=True)"
   ]
  },
  {
   "cell_type": "code",
   "execution_count": 29,
   "id": "6538a63c-0391-4b46-b815-645fe0a2cd7f",
   "metadata": {},
   "outputs": [
    {
     "data": {
      "text/html": [
       "<div>\n",
       "<style scoped>\n",
       "    .dataframe tbody tr th:only-of-type {\n",
       "        vertical-align: middle;\n",
       "    }\n",
       "\n",
       "    .dataframe tbody tr th {\n",
       "        vertical-align: top;\n",
       "    }\n",
       "\n",
       "    .dataframe thead th {\n",
       "        text-align: right;\n",
       "    }\n",
       "</style>\n",
       "<table border=\"1\" class=\"dataframe\">\n",
       "  <thead>\n",
       "    <tr style=\"text-align: right;\">\n",
       "      <th></th>\n",
       "      <th>Institute Code and Name</th>\n",
       "      <th>Address</th>\n",
       "      <th>Phone/ Fax / Website</th>\n",
       "      <th>Email ID</th>\n",
       "    </tr>\n",
       "  </thead>\n",
       "  <tbody>\n",
       "    <tr>\n",
       "      <th>0</th>\n",
       "      <td>101  Indian Institute  of Technology Bhubaneswar</td>\n",
       "      <td>Indian Institute of Technology Bhubaneswar (II...</td>\n",
       "      <td>Phone: 91-674-713-4574Fax: Website: www.iitbbs...</td>\n",
       "      <td>dr.acad@iitbbs.ac.in,  academic.btech@iitbbs.a...</td>\n",
       "    </tr>\n",
       "    <tr>\n",
       "      <th>1</th>\n",
       "      <td>102  Indian Institute  of Technology Bombay</td>\n",
       "      <td>IIT Bombay, Powai, Mumbai 400076, Maharashtra,...</td>\n",
       "      <td>Phone: 91-22-25767987Fax: Website: www.iitb.ac.in</td>\n",
       "      <td>adlingesd@iitb.ac.in,  aracad4@iitb.ac.in</td>\n",
       "    </tr>\n",
       "    <tr>\n",
       "      <th>2</th>\n",
       "      <td>103  Indian Institute  of Technology Mandi</td>\n",
       "      <td>Kamand Campus, VPO Kamand, Distt. Mandi - 1750...</td>\n",
       "      <td>Phone: 91-1905-267015Fax: 91-1905-267075Websit...</td>\n",
       "      <td>registrar@iitmandi.ac.in,</td>\n",
       "    </tr>\n",
       "    <tr>\n",
       "      <th>3</th>\n",
       "      <td>104  Indian Institute  of Technology Delhi</td>\n",
       "      <td>Indian Institute of Technology Delhi, Hauz Kha...</td>\n",
       "      <td>Phone: 91-11-26591708Fax: Website: www.iitd.ac.in</td>\n",
       "      <td>deanacad@admin.iitd.ac.in,  adcur@admin.iitd.a...</td>\n",
       "    </tr>\n",
       "    <tr>\n",
       "      <th>4</th>\n",
       "      <td>105  Indian Institute  of Technology Indore</td>\n",
       "      <td>Indian Institute of Technology Indore\\nSimrol,...</td>\n",
       "      <td>Phone: 91-731-6603150Fax: 91-731-6603121Websit...</td>\n",
       "      <td>araa@iiti.ac.in,  manageracademic@iiti.ac.in</td>\n",
       "    </tr>\n",
       "  </tbody>\n",
       "</table>\n",
       "</div>"
      ],
      "text/plain": [
       "                            Institute Code and Name  \\\n",
       "0  101  Indian Institute  of Technology Bhubaneswar   \n",
       "1       102  Indian Institute  of Technology Bombay   \n",
       "2        103  Indian Institute  of Technology Mandi   \n",
       "3        104  Indian Institute  of Technology Delhi   \n",
       "4       105  Indian Institute  of Technology Indore   \n",
       "\n",
       "                                             Address  \\\n",
       "0  Indian Institute of Technology Bhubaneswar (II...   \n",
       "1  IIT Bombay, Powai, Mumbai 400076, Maharashtra,...   \n",
       "2  Kamand Campus, VPO Kamand, Distt. Mandi - 1750...   \n",
       "3  Indian Institute of Technology Delhi, Hauz Kha...   \n",
       "4  Indian Institute of Technology Indore\\nSimrol,...   \n",
       "\n",
       "                                Phone/ Fax / Website  \\\n",
       "0  Phone: 91-674-713-4574Fax: Website: www.iitbbs...   \n",
       "1  Phone: 91-22-25767987Fax: Website: www.iitb.ac.in   \n",
       "2  Phone: 91-1905-267015Fax: 91-1905-267075Websit...   \n",
       "3  Phone: 91-11-26591708Fax: Website: www.iitd.ac.in   \n",
       "4  Phone: 91-731-6603150Fax: 91-731-6603121Websit...   \n",
       "\n",
       "                                            Email ID  \n",
       "0  dr.acad@iitbbs.ac.in,  academic.btech@iitbbs.a...  \n",
       "1          adlingesd@iitb.ac.in,  aracad4@iitb.ac.in  \n",
       "2                          registrar@iitmandi.ac.in,  \n",
       "3  deanacad@admin.iitd.ac.in,  adcur@admin.iitd.a...  \n",
       "4       araa@iiti.ac.in,  manageracademic@iiti.ac.in  "
      ]
     },
     "execution_count": 29,
     "metadata": {},
     "output_type": "execute_result"
    }
   ],
   "source": [
    "df.head()"
   ]
  },
  {
   "cell_type": "code",
   "execution_count": 30,
   "id": "de7f4594-91fa-4fad-9d85-a53495f01ca4",
   "metadata": {},
   "outputs": [
    {
     "data": {
      "text/plain": [
       "(121, 4)"
      ]
     },
     "execution_count": 30,
     "metadata": {},
     "output_type": "execute_result"
    }
   ],
   "source": [
    "df.shape"
   ]
  },
  {
   "cell_type": "code",
   "execution_count": 31,
   "id": "90ff79b5-d0bb-42f1-b094-b5b7bd3dba89",
   "metadata": {},
   "outputs": [],
   "source": [
    "df.to_csv(r'../data/institutes.csv')"
   ]
  },
  {
   "cell_type": "code",
   "execution_count": null,
   "id": "c4b0da6d-e287-4547-a6ba-66d0997dcdda",
   "metadata": {},
   "outputs": [],
   "source": []
  }
 ],
 "metadata": {
  "kernelspec": {
   "display_name": "Python 3 (ipykernel)",
   "language": "python",
   "name": "python3"
  },
  "language_info": {
   "codemirror_mode": {
    "name": "ipython",
    "version": 3
   },
   "file_extension": ".py",
   "mimetype": "text/x-python",
   "name": "python",
   "nbconvert_exporter": "python",
   "pygments_lexer": "ipython3",
   "version": "3.12.3"
  }
 },
 "nbformat": 4,
 "nbformat_minor": 5
}
